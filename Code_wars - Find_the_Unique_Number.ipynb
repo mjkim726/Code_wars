{
 "cells": [
  {
   "cell_type": "markdown",
   "metadata": {},
   "source": [
    "There is an array with some numbers. All numbers are equal except for one. Try to find it!\n",
    "\n",
    "It’s guaranteed that array contains more than 3 numbers.\n",
    "\n",
    "The tests contain some very huge arrays, so think about performance.\n",
    "\n",
    "This is the first kata in series:\n",
    "\n",
    "    Find the unique number (this kata)\n",
    "    Find the unique string\n",
    "    Find The Unique\n"
   ]
  },
  {
   "cell_type": "markdown",
   "metadata": {},
   "source": [
    "### My Solution"
   ]
  },
  {
   "cell_type": "code",
   "execution_count": 2,
   "metadata": {
    "collapsed": true
   },
   "outputs": [],
   "source": [
    "def find_uniq(arr):\n",
    "    n = {}\n",
    "    for i in arr:\n",
    "        if i in n:\n",
    "            n[i] += 1\n",
    "        else:\n",
    "            n[i] = 1\n",
    "    \n",
    "    for i in arr:\n",
    "        if n[i] == 1:\n",
    "            return i   # n: unique integer in the array"
   ]
  },
  {
   "cell_type": "code",
   "execution_count": null,
   "metadata": {
    "collapsed": true
   },
   "outputs": [],
   "source": []
  }
 ],
 "metadata": {
  "kernelspec": {
   "display_name": "Python 3",
   "language": "python",
   "name": "python3"
  },
  "language_info": {
   "codemirror_mode": {
    "name": "ipython",
    "version": 3
   },
   "file_extension": ".py",
   "mimetype": "text/x-python",
   "name": "python",
   "nbconvert_exporter": "python",
   "pygments_lexer": "ipython3",
   "version": "3.6.3"
  }
 },
 "nbformat": 4,
 "nbformat_minor": 2
}
