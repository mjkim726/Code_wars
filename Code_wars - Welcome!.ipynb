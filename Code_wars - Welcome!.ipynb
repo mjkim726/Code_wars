{
 "cells": [
  {
   "cell_type": "markdown",
   "metadata": {},
   "source": [
    "Your start-up's BA has told marketing that your website has a large audience in Scandinavia and surrounding countries. Marketing thinks it would be great to welcome visitors to the site in their own language. Luckily you already use an API that detects the user's location, so this is an easy win.\n",
    "\n",
    "The Task\n",
    "\n",
    "Think of a way to store the languages as a database (eg an object). The languages are listed below so you can copy and paste!\n",
    "Write a 'welcome' function that takes a parameter 'language' (always a string), and returns a greeting - if you have it in your database. It should default to English if the language is not in the database, or in the event of an invalid input."
   ]
  },
  {
   "cell_type": "markdown",
   "metadata": {},
   "source": [
    "#### Database"
   ]
  },
  {
   "cell_type": "markdown",
   "metadata": {},
   "source": [
    "    'english': 'Welcome',\n",
    "    'czech': 'Vitejte',\n",
    "    'danish': 'Velkomst',\n",
    "    'dutch': 'Welkom',\n",
    "    'estonian': 'Tere tulemast',\n",
    "    'finnish': 'Tervetuloa',\n",
    "    'flemish': 'Welgekomen',\n",
    "    'french': 'Bienvenue',\n",
    "    'german': 'Willkommen',\n",
    "    'irish': 'Failte',\n",
    "    'italian': 'Benvenuto',\n",
    "    'latvian': 'Gaidits',\n",
    "    'lithuanian': 'Laukiamas',\n",
    "    'polish': 'Witamy',\n",
    "    'spanish': 'Bienvenido',\n",
    "    'swedish': 'Valkommen',\n",
    "    'welsh': 'Croeso'"
   ]
  },
  {
   "cell_type": "markdown",
   "metadata": {},
   "source": [
    "### My Solution"
   ]
  },
  {
   "cell_type": "code",
   "execution_count": 2,
   "metadata": {},
   "outputs": [],
   "source": [
    "languages = {'english': 'Welcome',\n",
    "'czech': 'Vitejte',\n",
    "'danish': 'Velkomst',\n",
    "'dutch': 'Welkom',\n",
    "'estonian': 'Tere tulemast',\n",
    "'finnish': 'Tervetuloa',\n",
    "'flemish': 'Welgekomen',\n",
    "'french': 'Bienvenue',\n",
    "'german': 'Willkommen',\n",
    "'irish': 'Failte',\n",
    "'italian': 'Benvenuto',\n",
    "'latvian': 'Gaidits',\n",
    "'lithuanian': 'Laukiamas',\n",
    "'polish': 'Witamy',\n",
    "'spanish': 'Bienvenido',\n",
    "'swedish': 'Valkommen',\n",
    "'welsh': 'Croeso'}\n",
    "\n",
    "\n",
    "def greet(language = 'english'):\n",
    "    if type(language) != str:\n",
    "        return(languages['english'])\n",
    "    elif language.lower() in languages.keys():\n",
    "        return(languages[language.lower()])\n",
    "    else:\n",
    "        return(languages['english'])"
   ]
  },
  {
   "cell_type": "code",
   "execution_count": null,
   "metadata": {
    "collapsed": true
   },
   "outputs": [],
   "source": []
  }
 ],
 "metadata": {
  "kernelspec": {
   "display_name": "Python 3",
   "language": "python",
   "name": "python3"
  },
  "language_info": {
   "codemirror_mode": {
    "name": "ipython",
    "version": 3
   },
   "file_extension": ".py",
   "mimetype": "text/x-python",
   "name": "python",
   "nbconvert_exporter": "python",
   "pygments_lexer": "ipython3",
   "version": "3.6.3"
  }
 },
 "nbformat": 4,
 "nbformat_minor": 2
}
