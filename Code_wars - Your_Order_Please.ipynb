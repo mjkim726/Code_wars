{
 "cells": [
  {
   "cell_type": "markdown",
   "metadata": {},
   "source": [
    "Your task is to sort a given string. Each word in the String will contain a single number. This number is the position the word should have in the result.\n",
    "\n",
    "Note: Numbers can be from 1 to 9. So 1 will be the first word (not 0).\n",
    "\n",
    "If the input String is empty, return an empty String. The words in the input String will only contain valid consecutive numbers.\n",
    "\n",
    "For an input: \"is2 Thi1s T4est 3a\" the function should return \"Thi1s is2 3a T4est\""
   ]
  },
  {
   "cell_type": "markdown",
   "metadata": {},
   "source": [
    "### My Solution"
   ]
  },
  {
   "cell_type": "code",
   "execution_count": 1,
   "metadata": {},
   "outputs": [],
   "source": [
    "def order(sentence):\n",
    "    words = sentence.split(' ')\n",
    "    new_dict = {}\n",
    "    new_sentence = []\n",
    "    for word in words:\n",
    "        if \"1\" in word:\n",
    "            new_dict[1] = word\n",
    "        elif \"2\" in word:\n",
    "            new_dict[2] = word\n",
    "        elif \"3\" in word:\n",
    "            new_dict[3] = word\n",
    "        elif \"4\" in word:\n",
    "            new_dict[4] = word\n",
    "        elif \"5\" in word:\n",
    "            new_dict[5] = word\n",
    "        elif \"6\" in word:\n",
    "            new_dict[6] = word\n",
    "        elif \"7\" in word:\n",
    "            new_dict[7] = word\n",
    "        elif \"8\" in word:\n",
    "            new_dict[8] = word\n",
    "        elif \"9\" in word:\n",
    "            new_dict[9] = word\n",
    "        else:\n",
    "            pass\n",
    "    for i in range(len(new_dict.keys())):\n",
    "        new_sentence.append(new_dict[i+1])\n",
    "    return ' '.join(new_sentence)"
   ]
  },
  {
   "cell_type": "code",
   "execution_count": null,
   "metadata": {},
   "outputs": [],
   "source": []
  }
 ],
 "metadata": {
  "kernelspec": {
   "display_name": "Python 3",
   "language": "python",
   "name": "python3"
  },
  "language_info": {
   "codemirror_mode": {
    "name": "ipython",
    "version": 3
   },
   "file_extension": ".py",
   "mimetype": "text/x-python",
   "name": "python",
   "nbconvert_exporter": "python",
   "pygments_lexer": "ipython3",
   "version": "3.6.3"
  }
 },
 "nbformat": 4,
 "nbformat_minor": 2
}
