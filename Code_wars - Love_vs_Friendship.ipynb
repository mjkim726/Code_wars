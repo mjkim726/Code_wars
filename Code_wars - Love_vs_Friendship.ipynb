{
 "cells": [
  {
   "cell_type": "markdown",
   "metadata": {},
   "source": [
    "If　a = 1, b = 2, c = 3 ... z = 26\n",
    "\n",
    "Then l + o + v + e = 54\n",
    "\n",
    "and f + r + i + e + n + d + s + h + i + p = 108\n",
    "\n",
    "So friendship is twice stronger than love :-)\n",
    "\n",
    "The input will always be in lowercase and never be empty."
   ]
  },
  {
   "cell_type": "markdown",
   "metadata": {},
   "source": [
    "## My Solution"
   ]
  },
  {
   "cell_type": "code",
   "execution_count": 1,
   "metadata": {
    "collapsed": true
   },
   "outputs": [],
   "source": [
    "def words_to_marks(s):\n",
    "    return sum([ord(letter) - 96 for letter in s])"
   ]
  },
  {
   "cell_type": "code",
   "execution_count": null,
   "metadata": {
    "collapsed": true
   },
   "outputs": [],
   "source": []
  }
 ],
 "metadata": {
  "kernelspec": {
   "display_name": "Python 3",
   "language": "python",
   "name": "python3"
  },
  "language_info": {
   "codemirror_mode": {
    "name": "ipython",
    "version": 3
   },
   "file_extension": ".py",
   "mimetype": "text/x-python",
   "name": "python",
   "nbconvert_exporter": "python",
   "pygments_lexer": "ipython3",
   "version": "3.6.3"
  }
 },
 "nbformat": 4,
 "nbformat_minor": 2
}
