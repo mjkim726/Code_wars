{
 "cells": [
  {
   "cell_type": "markdown",
   "metadata": {},
   "source": [
    "Character recognition software is widely used to digitise printed texts. Thus the texts can be edited, searched and stored on a computer.\n",
    "\n",
    "When documents (especially pretty old ones written with a typewriter), are digitised character recognition softwares often make mistakes.\n",
    "\n",
    "Your task is correct the errors in the digitised text. You only have to handle the following mistakes:\n",
    "\n",
    "S is misinterpreted as 5\n",
    "\n",
    "O is misinterpreted as 0\n",
    "\n",
    "I is misinterpreted as 1\n",
    "\n",
    "The test cases contain numbers only by mistake."
   ]
  },
  {
   "cell_type": "markdown",
   "metadata": {},
   "source": [
    "### My Solution"
   ]
  },
  {
   "cell_type": "code",
   "execution_count": 1,
   "metadata": {
    "collapsed": true
   },
   "outputs": [],
   "source": [
    "def correct(string):\n",
    "    word = list(string)\n",
    "    new_word = []\n",
    "    for i in word:\n",
    "        if i == '5':\n",
    "            i = 'S'\n",
    "            new_word.append(i)\n",
    "        elif i == '0':\n",
    "            i = 'O'\n",
    "            new_word.append(i)\n",
    "        elif i =='1':\n",
    "            i = 'I'\n",
    "            new_word.append(i)\n",
    "        else:\n",
    "            new_word.append(i)\n",
    "    return \"\".join(new_word)"
   ]
  },
  {
   "cell_type": "code",
   "execution_count": null,
   "metadata": {
    "collapsed": true
   },
   "outputs": [],
   "source": []
  }
 ],
 "metadata": {
  "kernelspec": {
   "display_name": "Python 3",
   "language": "python",
   "name": "python3"
  },
  "language_info": {
   "codemirror_mode": {
    "name": "ipython",
    "version": 3
   },
   "file_extension": ".py",
   "mimetype": "text/x-python",
   "name": "python",
   "nbconvert_exporter": "python",
   "pygments_lexer": "ipython3",
   "version": "3.6.3"
  }
 },
 "nbformat": 4,
 "nbformat_minor": 2
}
