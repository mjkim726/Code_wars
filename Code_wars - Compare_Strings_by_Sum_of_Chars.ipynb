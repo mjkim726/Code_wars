{
 "cells": [
  {
   "cell_type": "markdown",
   "metadata": {},
   "source": [
    "Compare two strings by comparing the sum of their values (ASCII character code).\n",
    "For comparing treat all letters as UpperCase.\n",
    "\n",
    "Null-Strings should be treated as if they are empty strings.\n",
    "If the string contains other characters than letters, treat the whole string as it would be empty.\n",
    "\n",
    "Examples:\n",
    "\n",
    "\"AD\",\"BC\" -> equal\n",
    "\n",
    "\"AD\",\"DD\" -> not equal\n",
    "\n",
    "\"gf\",\"FG\" -> equal\n",
    "\n",
    "\"zz1\",\"\" -> equal\n",
    "\n",
    "\"ZzZz\", \"ffPFF\" -> equal\n",
    "\n",
    "\"kl\", \"lz\" -> not equal\n",
    "\n",
    "null, \"\" -> equal\n",
    "\n",
    "Your method should return true, if the strings are equal and false if they are not equal."
   ]
  },
  {
   "cell_type": "markdown",
   "metadata": {},
   "source": [
    "### My Solution"
   ]
  },
  {
   "cell_type": "code",
   "execution_count": 1,
   "metadata": {
    "collapsed": true
   },
   "outputs": [],
   "source": [
    "def compare(s1,s2):\n",
    "    if (s1 == None) | (s2 == None):\n",
    "        return True\n",
    "    else:\n",
    "        num1 = [ord(i.upper()) for i in s1]\n",
    "        num2 = [ord(j.upper()) for j in s2]\n",
    "        test = (s1.isalpha() == True) & (s2.isalpha() == True)\n",
    "        test1 = (s1.isalpha() == False) & (s2.isalpha() == True)\n",
    "        test2 = (s1.isalpha() == True) & (s2.isalpha() == False)\n",
    "        if test:\n",
    "            if sum(num1) == sum(num2):\n",
    "                return True\n",
    "            else:\n",
    "                return False\n",
    "        elif test1:\n",
    "            s1 = ''\n",
    "            if sum(s1) == sum(num2):\n",
    "                return True\n",
    "            else:\n",
    "                return False\n",
    "        elif test2:\n",
    "            s2 = ''\n",
    "            if sum(num1) == sum(s2):\n",
    "                return True\n",
    "            else:\n",
    "                return False\n",
    "        else:\n",
    "            return True"
   ]
  },
  {
   "cell_type": "code",
   "execution_count": null,
   "metadata": {
    "collapsed": true
   },
   "outputs": [],
   "source": []
  }
 ],
 "metadata": {
  "kernelspec": {
   "display_name": "Python 3",
   "language": "python",
   "name": "python3"
  },
  "language_info": {
   "codemirror_mode": {
    "name": "ipython",
    "version": 3
   },
   "file_extension": ".py",
   "mimetype": "text/x-python",
   "name": "python",
   "nbconvert_exporter": "python",
   "pygments_lexer": "ipython3",
   "version": "3.6.2"
  }
 },
 "nbformat": 4,
 "nbformat_minor": 2
}
