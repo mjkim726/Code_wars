{
 "cells": [
  {
   "cell_type": "markdown",
   "metadata": {},
   "source": [
    "Implement the function unique_in_order which takes as argument a sequence and returns a list of items without any elements with the same value next to each other and preserving the original order of elements."
   ]
  },
  {
   "cell_type": "markdown",
   "metadata": {},
   "source": [
    "### My Solution"
   ]
  },
  {
   "cell_type": "code",
   "execution_count": 1,
   "metadata": {
    "collapsed": true
   },
   "outputs": [],
   "source": [
    "def unique_in_order(iterable):\n",
    "    word = []\n",
    "    if len(iterable) == 0:\n",
    "        return word\n",
    "    \n",
    "    elif type(iterable) == str :\n",
    "        if len(set(iterable)) == 1:\n",
    "            word = iterable[0]\n",
    "        else:\n",
    "            for i in range(len(iterable)):\n",
    "                if iterable[i] != iterable[i-1]:\n",
    "                    word+=iterable[i-1]\n",
    "\n",
    "        return list(word[1:]) + list(word[0])\n",
    "    \n",
    "    else:\n",
    "        if len(set(iterable)) == 1:\n",
    "            word.append(iterable[0])\n",
    "        else:\n",
    "            for i in range(len(iterable)):\n",
    "                if iterable[i] != iterable[i-1]:\n",
    "                    word.append(iterable[i-1])\n",
    "\n",
    "        return list(word[1:]) + list([word[0]])"
   ]
  },
  {
   "cell_type": "code",
   "execution_count": null,
   "metadata": {
    "collapsed": true
   },
   "outputs": [],
   "source": []
  }
 ],
 "metadata": {
  "kernelspec": {
   "display_name": "Python 3",
   "language": "python",
   "name": "python3"
  },
  "language_info": {
   "codemirror_mode": {
    "name": "ipython",
    "version": 3
   },
   "file_extension": ".py",
   "mimetype": "text/x-python",
   "name": "python",
   "nbconvert_exporter": "python",
   "pygments_lexer": "ipython3",
   "version": "3.6.3"
  }
 },
 "nbformat": 4,
 "nbformat_minor": 2
}
